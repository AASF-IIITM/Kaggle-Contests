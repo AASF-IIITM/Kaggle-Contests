{
 "cells": [
  {
   "cell_type": "code",
   "execution_count": 1,
   "metadata": {
    "collapsed": true
   },
   "outputs": [],
   "source": [
    "import pandas as pd\n",
    "import numpy as np\n",
    "import matplotlib.pyplot as plt\n",
    "import seaborn as sns\n",
    "%matplotlib inline"
   ]
  },
  {
   "cell_type": "code",
   "execution_count": 2,
   "metadata": {},
   "outputs": [
    {
     "data": {
      "text/html": [
       "<div>\n",
       "<style>\n",
       "    .dataframe thead tr:only-child th {\n",
       "        text-align: right;\n",
       "    }\n",
       "\n",
       "    .dataframe thead th {\n",
       "        text-align: left;\n",
       "    }\n",
       "\n",
       "    .dataframe tbody tr th {\n",
       "        vertical-align: top;\n",
       "    }\n",
       "</style>\n",
       "<table border=\"1\" class=\"dataframe\">\n",
       "  <thead>\n",
       "    <tr style=\"text-align: right;\">\n",
       "      <th></th>\n",
       "      <th>PassengerId</th>\n",
       "      <th>Survived</th>\n",
       "      <th>Pclass</th>\n",
       "      <th>Name</th>\n",
       "      <th>Sex</th>\n",
       "      <th>Age</th>\n",
       "      <th>SibSp</th>\n",
       "      <th>Parch</th>\n",
       "      <th>Ticket</th>\n",
       "      <th>Fare</th>\n",
       "      <th>Cabin</th>\n",
       "      <th>Embarked</th>\n",
       "    </tr>\n",
       "  </thead>\n",
       "  <tbody>\n",
       "    <tr>\n",
       "      <th>0</th>\n",
       "      <td>1</td>\n",
       "      <td>0</td>\n",
       "      <td>3</td>\n",
       "      <td>Braund, Mr. Owen Harris</td>\n",
       "      <td>male</td>\n",
       "      <td>22.0</td>\n",
       "      <td>1</td>\n",
       "      <td>0</td>\n",
       "      <td>A/5 21171</td>\n",
       "      <td>7.2500</td>\n",
       "      <td>NaN</td>\n",
       "      <td>S</td>\n",
       "    </tr>\n",
       "    <tr>\n",
       "      <th>1</th>\n",
       "      <td>2</td>\n",
       "      <td>1</td>\n",
       "      <td>1</td>\n",
       "      <td>Cumings, Mrs. John Bradley (Florence Briggs Th...</td>\n",
       "      <td>female</td>\n",
       "      <td>38.0</td>\n",
       "      <td>1</td>\n",
       "      <td>0</td>\n",
       "      <td>PC 17599</td>\n",
       "      <td>71.2833</td>\n",
       "      <td>C85</td>\n",
       "      <td>C</td>\n",
       "    </tr>\n",
       "    <tr>\n",
       "      <th>2</th>\n",
       "      <td>3</td>\n",
       "      <td>1</td>\n",
       "      <td>3</td>\n",
       "      <td>Heikkinen, Miss. Laina</td>\n",
       "      <td>female</td>\n",
       "      <td>26.0</td>\n",
       "      <td>0</td>\n",
       "      <td>0</td>\n",
       "      <td>STON/O2. 3101282</td>\n",
       "      <td>7.9250</td>\n",
       "      <td>NaN</td>\n",
       "      <td>S</td>\n",
       "    </tr>\n",
       "    <tr>\n",
       "      <th>3</th>\n",
       "      <td>4</td>\n",
       "      <td>1</td>\n",
       "      <td>1</td>\n",
       "      <td>Futrelle, Mrs. Jacques Heath (Lily May Peel)</td>\n",
       "      <td>female</td>\n",
       "      <td>35.0</td>\n",
       "      <td>1</td>\n",
       "      <td>0</td>\n",
       "      <td>113803</td>\n",
       "      <td>53.1000</td>\n",
       "      <td>C123</td>\n",
       "      <td>S</td>\n",
       "    </tr>\n",
       "    <tr>\n",
       "      <th>4</th>\n",
       "      <td>5</td>\n",
       "      <td>0</td>\n",
       "      <td>3</td>\n",
       "      <td>Allen, Mr. William Henry</td>\n",
       "      <td>male</td>\n",
       "      <td>35.0</td>\n",
       "      <td>0</td>\n",
       "      <td>0</td>\n",
       "      <td>373450</td>\n",
       "      <td>8.0500</td>\n",
       "      <td>NaN</td>\n",
       "      <td>S</td>\n",
       "    </tr>\n",
       "  </tbody>\n",
       "</table>\n",
       "</div>"
      ],
      "text/plain": [
       "   PassengerId  Survived  Pclass  \\\n",
       "0            1         0       3   \n",
       "1            2         1       1   \n",
       "2            3         1       3   \n",
       "3            4         1       1   \n",
       "4            5         0       3   \n",
       "\n",
       "                                                Name     Sex   Age  SibSp  \\\n",
       "0                            Braund, Mr. Owen Harris    male  22.0      1   \n",
       "1  Cumings, Mrs. John Bradley (Florence Briggs Th...  female  38.0      1   \n",
       "2                             Heikkinen, Miss. Laina  female  26.0      0   \n",
       "3       Futrelle, Mrs. Jacques Heath (Lily May Peel)  female  35.0      1   \n",
       "4                           Allen, Mr. William Henry    male  35.0      0   \n",
       "\n",
       "   Parch            Ticket     Fare Cabin Embarked  \n",
       "0      0         A/5 21171   7.2500   NaN        S  \n",
       "1      0          PC 17599  71.2833   C85        C  \n",
       "2      0  STON/O2. 3101282   7.9250   NaN        S  \n",
       "3      0            113803  53.1000  C123        S  \n",
       "4      0            373450   8.0500   NaN        S  "
      ]
     },
     "execution_count": 2,
     "metadata": {},
     "output_type": "execute_result"
    }
   ],
   "source": [
    "train=pd.read_csv('train.csv')\n",
    "test=pd.read_csv('test.csv')\n",
    "train.head()"
   ]
  },
  {
   "cell_type": "code",
   "execution_count": 3,
   "metadata": {},
   "outputs": [
    {
     "data": {
      "text/plain": [
       "<matplotlib.axes._subplots.AxesSubplot at 0x1d4975d59b0>"
      ]
     },
     "execution_count": 3,
     "metadata": {},
     "output_type": "execute_result"
    },
    {
     "data": {
      "image/png": "[encoded data removed]",
      "text/plain": [
       "<matplotlib.figure.Figure at 0x1d497306fd0>"
      ]
     },
     "metadata": {},
     "output_type": "display_data"
    }
   ],
   "source": [
    "plt.figure(figsize=(17,7))\n",
    "plt.subplot(1,2,1)\n",
    "sns.heatmap(train.isnull(),cmap='viridis')\n",
    "plt.subplot(1,2,2)\n",
    "sns.heatmap(test.isnull(),cmap='viridis')"
   ]
  },
  {
   "cell_type": "code",
   "execution_count": 4,
   "metadata": {},
   "outputs": [
    {
     "data": {
      "text/plain": [
       "<matplotlib.axes._subplots.AxesSubplot at 0x1d4979ab7b8>"
      ]
     },
     "execution_count": 4,
     "metadata": {},
     "output_type": "execute_result"
    },
    {
     "data": {
      "image/png": "[encoded data removed]",
      "text/plain": [
       "<matplotlib.figure.Figure at 0x1d497e41240>"
      ]
     },
     "metadata": {},
     "output_type": "display_data"
    }
   ],
   "source": [
    "plt.figure(figsize=(16,7))\n",
    "plt.subplot(1,2,1)\n",
    "sns.boxplot(x='Pclass',y='Age',data=train)\n",
    "plt.subplot(1,2,2)\n",
    "sns.boxplot(x='Pclass',y='Age',data=test)"
   ]
  },
  {
   "cell_type": "code",
   "execution_count": 5,
   "metadata": {
    "collapsed": true
   },
   "outputs": [],
   "source": [
    "#filling NaN in the age column with the mean of the respective class \n",
    "def fillageNaN(cols):\n",
    "    Age=cols[0]\n",
    "    Pclass=cols[1]\n",
    "    if pd.isnull(Age):\n",
    "        if Pclass==1:\n",
    "            return 37\n",
    "        elif Pclass==2:\n",
    "            return 29\n",
    "        else:\n",
    "            return 26\n",
    "    else:\n",
    "        return Age\n",
    "def fillageNaN_t(cols):\n",
    "    Age=cols[0]\n",
    "    Pclass=cols[1]\n",
    "    if pd.isnull(Age):\n",
    "        if Pclass==1:\n",
    "            return 42\n",
    "        elif Pclass==2:\n",
    "            return 26\n",
    "        else:\n",
    "            return 22\n",
    "    else:\n",
    "        return Age"
   ]
  },
  {
   "cell_type": "code",
   "execution_count": 6,
   "metadata": {
    "collapsed": true
   },
   "outputs": [],
   "source": [
    "train['Age']=train[['Age','Pclass']].apply(fillageNaN,axis=1)\n",
    "test['Age']=train[['Age','Pclass']].apply(fillageNaN_t,axis=1)"
   ]
  },
  {
   "cell_type": "code",
   "execution_count": 7,
   "metadata": {
    "collapsed": true
   },
   "outputs": [],
   "source": [
    "train['Cabin']=train['Cabin'].fillna('N')\n",
    "test['Cabin']=test['Cabin'].fillna('N')\n",
    "train.Cabin=train.Cabin.apply(lambda x:x[0])\n",
    "test.Cabin=train.Cabin.apply(lambda x:x[0])"
   ]
  },
  {
   "cell_type": "code",
   "execution_count": 8,
   "metadata": {
    "collapsed": true
   },
   "outputs": [],
   "source": [
    "sex=pd.get_dummies(train['Sex'],drop_first=True)\n",
    "sex_t=pd.get_dummies(test['Sex'],drop_first=True)"
   ]
  },
  {
   "cell_type": "code",
   "execution_count": 9,
   "metadata": {
    "collapsed": true
   },
   "outputs": [],
   "source": [
    "embark=pd.get_dummies(train['Embarked'],drop_first=True)\n",
    "embark_t=pd.get_dummies(test['Embarked'],drop_first=True)"
   ]
  },
  {
   "cell_type": "code",
   "execution_count": 10,
   "metadata": {
    "collapsed": true
   },
   "outputs": [],
   "source": [
    "cabin=pd.get_dummies(train['Cabin'],drop_first=True)\n",
    "cabin_t=pd.get_dummies(test['Cabin'],drop_first=True)"
   ]
  },
  {
   "cell_type": "code",
   "execution_count": 11,
   "metadata": {
    "collapsed": true
   },
   "outputs": [],
   "source": [
    "train.drop(['PassengerId','Sex','Embarked','Ticket','Name','Cabin'],axis=1,inplace=True)\n",
    "test.drop(['Sex','Embarked','Ticket','Name','Cabin'],axis=1,inplace=True)"
   ]
  },
  {
   "cell_type": "code",
   "execution_count": 12,
   "metadata": {
    "collapsed": true
   },
   "outputs": [],
   "source": [
    "train=pd.concat([train,sex,embark,cabin],axis=1)\n",
    "test=pd.concat([test,sex_t,embark_t,cabin_t],axis=1)"
   ]
  },
  {
   "cell_type": "code",
   "execution_count": 14,
   "metadata": {},
   "outputs": [
    {
     "data": {
      "text/plain": [
       "<matplotlib.axes._subplots.AxesSubplot at 0x1d497305358>"
      ]
     },
     "execution_count": 14,
     "metadata": {},
     "output_type": "execute_result"
    },
    {
     "data": {
      "image/png": "[encoded data removed]",
      "text/plain": [
       "<matplotlib.figure.Figure at 0x1d4972eecf8>"
      ]
     },
     "metadata": {},
     "output_type": "display_data"
    }
   ],
   "source": [
    "sns.distplot(train['Age'],bins=30,kde=False,hist_kws=dict(edgecolor='black'))"
   ]
  },
  {
   "cell_type": "code",
   "execution_count": 15,
   "metadata": {},
   "outputs": [
    {
     "data": {
      "text/plain": [
       "<matplotlib.axes._subplots.AxesSubplot at 0x1d4980ef518>"
      ]
     },
     "execution_count": 15,
     "metadata": {},
     "output_type": "execute_result"
    },
    {
     "data": {
      "image/png": "[encoded data removed]",
      "text/plain": [
       "<matplotlib.figure.Figure at 0x1d498103630>"
      ]
     },
     "metadata": {},
     "output_type": "display_data"
    }
   ],
   "source": [
    "sns.distplot(test['Age'],kde=False,hist_kws=dict(edgecolor='black'))"
   ]
  },
  {
   "cell_type": "code",
   "execution_count": 17,
   "metadata": {},
   "outputs": [],
   "source": [
    "def age_grp(i):\n",
    "        if 0<=i<10:\n",
    "            return 1\n",
    "        if 10<=i<20:\n",
    "            return 2\n",
    "        if 20<=i<30:\n",
    "            return 3\n",
    "        if 30<=i<40:\n",
    "            return 4\n",
    "        if 40<=i<50:\n",
    "            return 5\n",
    "        if 50<=i<60:\n",
    "            return 6\n",
    "        if 60<=i<70:\n",
    "            return 7\n",
    "        if 70<=i<80:\n",
    "            return 8\n",
    "    "
   ]
  },
  {
   "cell_type": "code",
   "execution_count": 18,
   "metadata": {
    "collapsed": true
   },
   "outputs": [],
   "source": [
    "train['Age']=train['Age'].apply(age_grp)\n",
    "test['Age']=test['Age'].apply(age_grp)"
   ]
  },
  {
   "cell_type": "code",
   "execution_count": 19,
   "metadata": {
    "collapsed": true
   },
   "outputs": [],
   "source": [
    "train.dropna(inplace=True)"
   ]
  },
  {
   "cell_type": "code",
   "execution_count": 20,
   "metadata": {
    "collapsed": true
   },
   "outputs": [],
   "source": [
    "X=train.drop('Survived',axis=1)\n",
    "y=train['Survived']"
   ]
  },
  {
   "cell_type": "code",
   "execution_count": 21,
   "metadata": {
    "collapsed": true
   },
   "outputs": [],
   "source": [
    "from sklearn.model_selection import train_test_split\n",
    "X_train,X_cv,y_train,y_cv=train_test_split(X,y,test_size=0.2)"
   ]
  },
  {
   "cell_type": "code",
   "execution_count": 22,
   "metadata": {},
   "outputs": [
    {
     "data": {
      "text/plain": [
       "LogisticRegression(C=1.0, class_weight=None, dual=False, fit_intercept=True,\n",
       "          intercept_scaling=1, max_iter=100, multi_class='ovr', n_jobs=1,\n",
       "          penalty='l2', random_state=None, solver='liblinear', tol=0.0001,\n",
       "          verbose=0, warm_start=False)"
      ]
     },
     "execution_count": 22,
     "metadata": {},
     "output_type": "execute_result"
    }
   ],
   "source": [
    "from sklearn.linear_model import LogisticRegression\n",
    "lr=LogisticRegression()\n",
    "lr.fit(X_train,y_train)"
   ]
  },
  {
   "cell_type": "code",
   "execution_count": 23,
   "metadata": {
    "collapsed": true
   },
   "outputs": [],
   "source": [
    "pred=lr.predict(X_cv)"
   ]
  },
  {
   "cell_type": "code",
   "execution_count": 24,
   "metadata": {
    "collapsed": true
   },
   "outputs": [],
   "source": [
    "from sklearn.metrics import make_scorer, accuracy_score"
   ]
  },
  {
   "cell_type": "code",
   "execution_count": 25,
   "metadata": {
    "collapsed": true
   },
   "outputs": [],
   "source": [
    "acc_scorer = make_scorer(accuracy_score)"
   ]
  },
  {
   "cell_type": "code",
   "execution_count": 26,
   "metadata": {},
   "outputs": [
    {
     "name": "stdout",
     "output_type": "stream",
     "text": [
      "0.775280898876\n"
     ]
    }
   ],
   "source": [
    "print(accuracy_score(y_cv, pred))"
   ]
  },
  {
   "cell_type": "code",
   "execution_count": 29,
   "metadata": {},
   "outputs": [],
   "source": [
    "from sklearn.model_selection import GridSearchCV\n",
    "param_grid={'C':[0.1,0.3,1,3,10,30,100,300,1000,3000],'max_iter':[100,150,200,250]}"
   ]
  },
  {
   "cell_type": "code",
   "execution_count": 30,
   "metadata": {
    "collapsed": true
   },
   "outputs": [],
   "source": [
    "grid=GridSearchCV(LogisticRegression(),param_grid,verbose=3)"
   ]
  },
  {
   "cell_type": "code",
   "execution_count": 31,
   "metadata": {},
   "outputs": [
    {
     "name": "stdout",
     "output_type": "stream",
     "text": [
      "Fitting 3 folds for each of 40 candidates, totalling 120 fits\n",
      "[CV] C=0.1, max_iter=100 .............................................\n",
      "[CV] ..... C=0.1, max_iter=100, score=0.773109243697479, total=   0.0s\n",
      "[CV] C=0.1, max_iter=100 .............................................\n",
      "[CV] .... C=0.1, max_iter=100, score=0.8025210084033614, total=   0.0s\n",
      "[CV] C=0.1, max_iter=100 .............................................\n",
      "[CV] .... C=0.1, max_iter=100, score=0.7923728813559322, total=   0.0s\n",
      "[CV] C=0.1, max_iter=150 .............................................\n",
      "[CV] ..... C=0.1, max_iter=150, score=0.773109243697479, total=   0.0s\n",
      "[CV] C=0.1, max_iter=150 .............................................\n",
      "[CV] .... C=0.1, max_iter=150, score=0.8025210084033614, total=   0.0s\n",
      "[CV] C=0.1, max_iter=150 .............................................\n",
      "[CV] .... C=0.1, max_iter=150, score=0.7923728813559322, total=   0.0s\n",
      "[CV] C=0.1, max_iter=200 .............................................\n",
      "[CV] ..... C=0.1, max_iter=200, score=0.773109243697479, total=   0.0s\n",
      "[CV] C=0.1, max_iter=200 .............................................\n",
      "[CV] .... C=0.1, max_iter=200, score=0.8025210084033614, total=   0.0s\n",
      "[CV] C=0.1, max_iter=200 .............................................\n",
      "[CV] .... C=0.1, max_iter=200, score=0.7923728813559322, total=   0.0s\n",
      "[CV] C=0.1, max_iter=250 .............................................\n",
      "[CV] ..... C=0.1, max_iter=250, score=0.773109243697479, total=   0.0s\n",
      "[CV] C=0.1, max_iter=250 .............................................\n",
      "[CV] .... C=0.1, max_iter=250, score=0.8025210084033614, total=   0.0s\n",
      "[CV] C=0.1, max_iter=250 .............................................\n",
      "[CV] .... C=0.1, max_iter=250, score=0.7923728813559322, total=   0.0s\n",
      "[CV] C=0.3, max_iter=100 .............................................\n",
      "[CV] .... C=0.3, max_iter=100, score=0.7773109243697479, total=   0.0s\n",
      "[CV] C=0.3, max_iter=100 .............................................\n",
      "[CV] .... C=0.3, max_iter=100, score=0.7941176470588235, total=   0.0s\n",
      "[CV] C=0.3, max_iter=100 .............................................\n",
      "[CV] .... C=0.3, max_iter=100, score=0.8008474576271186, total=   0.0s\n",
      "[CV] C=0.3, max_iter=150 .............................................\n",
      "[CV] .... C=0.3, max_iter=150, score=0.7773109243697479, total=   0.0s\n",
      "[CV] C=0.3, max_iter=150 .............................................\n",
      "[CV] .... C=0.3, max_iter=150, score=0.7941176470588235, total=   0.0s\n",
      "[CV] C=0.3, max_iter=150 .............................................\n",
      "[CV] .... C=0.3, max_iter=150, score=0.8008474576271186, total=   0.0s\n",
      "[CV] C=0.3, max_iter=200 .............................................\n",
      "[CV] .... C=0.3, max_iter=200, score=0.7773109243697479, total=   0.0s\n",
      "[CV] C=0.3, max_iter=200 .............................................\n",
      "[CV] .... C=0.3, max_iter=200, score=0.7941176470588235, total=   0.0s\n",
      "[CV] C=0.3, max_iter=200 .............................................\n",
      "[CV] .... C=0.3, max_iter=200, score=0.8008474576271186, total=   0.0s\n",
      "[CV] C=0.3, max_iter=250 .............................................\n",
      "[CV] .... C=0.3, max_iter=250, score=0.7773109243697479, total=   0.0s\n",
      "[CV] C=0.3, max_iter=250 .............................................\n",
      "[CV] .... C=0.3, max_iter=250, score=0.7941176470588235, total=   0.0s\n",
      "[CV] C=0.3, max_iter=250 .............................................\n"
     ]
    },
    {
     "name": "stderr",
     "output_type": "stream",
     "text": [
      "[Parallel(n_jobs=1)]: Done   1 out of   1 | elapsed:    0.0s remaining:    0.0s\n",
      "[Parallel(n_jobs=1)]: Done   2 out of   2 | elapsed:    0.0s remaining:    0.0s\n"
     ]
    },
    {
     "name": "stdout",
     "output_type": "stream",
     "text": [
      "[CV] .... C=0.3, max_iter=250, score=0.8008474576271186, total=   0.0s\n",
      "[CV] C=1, max_iter=100 ...............................................\n",
      "[CV] ...... C=1, max_iter=100, score=0.7857142857142857, total=   0.0s\n",
      "[CV] C=1, max_iter=100 ...............................................\n",
      "[CV] ...... C=1, max_iter=100, score=0.8109243697478992, total=   0.0s\n",
      "[CV] C=1, max_iter=100 ...............................................\n",
      "[CV] ...... C=1, max_iter=100, score=0.7838983050847458, total=   0.0s\n",
      "[CV] C=1, max_iter=150 ...............................................\n",
      "[CV] ...... C=1, max_iter=150, score=0.7857142857142857, total=   0.0s\n",
      "[CV] C=1, max_iter=150 ...............................................\n",
      "[CV] ...... C=1, max_iter=150, score=0.8109243697478992, total=   0.0s\n",
      "[CV] C=1, max_iter=150 ...............................................\n",
      "[CV] ...... C=1, max_iter=150, score=0.7838983050847458, total=   0.0s\n",
      "[CV] C=1, max_iter=200 ...............................................\n",
      "[CV] ...... C=1, max_iter=200, score=0.7857142857142857, total=   0.0s\n",
      "[CV] C=1, max_iter=200 ...............................................\n",
      "[CV] ...... C=1, max_iter=200, score=0.8109243697478992, total=   0.0s\n",
      "[CV] C=1, max_iter=200 ...............................................\n",
      "[CV] ...... C=1, max_iter=200, score=0.7838983050847458, total=   0.0s\n",
      "[CV] C=1, max_iter=250 ...............................................\n",
      "[CV] ...... C=1, max_iter=250, score=0.7857142857142857, total=   0.0s\n",
      "[CV] C=1, max_iter=250 ...............................................\n",
      "[CV] ...... C=1, max_iter=250, score=0.8109243697478992, total=   0.0s\n",
      "[CV] C=1, max_iter=250 ...............................................\n",
      "[CV] ...... C=1, max_iter=250, score=0.7838983050847458, total=   0.0s\n",
      "[CV] C=3, max_iter=100 ...............................................\n",
      "[CV] ...... C=3, max_iter=100, score=0.7857142857142857, total=   0.0s\n",
      "[CV] C=3, max_iter=100 ...............................................\n",
      "[CV] ...... C=3, max_iter=100, score=0.8109243697478992, total=   0.0s\n",
      "[CV] C=3, max_iter=100 ...............................................\n",
      "[CV] ...... C=3, max_iter=100, score=0.7796610169491526, total=   0.0s\n",
      "[CV] C=3, max_iter=150 ...............................................\n",
      "[CV] ...... C=3, max_iter=150, score=0.7857142857142857, total=   0.0s\n",
      "[CV] C=3, max_iter=150 ...............................................\n",
      "[CV] ...... C=3, max_iter=150, score=0.8109243697478992, total=   0.0s\n",
      "[CV] C=3, max_iter=150 ...............................................\n",
      "[CV] ...... C=3, max_iter=150, score=0.7796610169491526, total=   0.0s\n",
      "[CV] C=3, max_iter=200 ...............................................\n",
      "[CV] ...... C=3, max_iter=200, score=0.7857142857142857, total=   0.0s\n",
      "[CV] C=3, max_iter=200 ...............................................\n",
      "[CV] ...... C=3, max_iter=200, score=0.8109243697478992, total=   0.0s\n",
      "[CV] C=3, max_iter=200 ...............................................\n",
      "[CV] ...... C=3, max_iter=200, score=0.7796610169491526, total=   0.0s\n",
      "[CV] C=3, max_iter=250 ...............................................\n",
      "[CV] ...... C=3, max_iter=250, score=0.7857142857142857, total=   0.0s\n",
      "[CV] C=3, max_iter=250 ...............................................\n",
      "[CV] ...... C=3, max_iter=250, score=0.8109243697478992, total=   0.0s\n",
      "[CV] C=3, max_iter=250 ...............................................\n",
      "[CV] ...... C=3, max_iter=250, score=0.7796610169491526, total=   0.0s\n",
      "[CV] C=10, max_iter=100 ..............................................\n",
      "[CV] ..... C=10, max_iter=100, score=0.7899159663865546, total=   0.0s\n",
      "[CV] C=10, max_iter=100 ..............................................\n",
      "[CV] ..... C=10, max_iter=100, score=0.7983193277310925, total=   0.0s\n",
      "[CV] C=10, max_iter=100 ..............................................\n",
      "[CV] ..... C=10, max_iter=100, score=0.7838983050847458, total=   0.0s\n",
      "[CV] C=10, max_iter=150 ..............................................\n",
      "[CV] ..... C=10, max_iter=150, score=0.7899159663865546, total=   0.0s\n",
      "[CV] C=10, max_iter=150 ..............................................\n",
      "[CV] ..... C=10, max_iter=150, score=0.7983193277310925, total=   0.0s\n",
      "[CV] C=10, max_iter=150 ..............................................\n",
      "[CV] ..... C=10, max_iter=150, score=0.7838983050847458, total=   0.0s\n",
      "[CV] C=10, max_iter=200 ..............................................\n",
      "[CV] ..... C=10, max_iter=200, score=0.7899159663865546, total=   0.0s\n",
      "[CV] C=10, max_iter=200 ..............................................\n",
      "[CV] ..... C=10, max_iter=200, score=0.7983193277310925, total=   0.0s\n",
      "[CV] C=10, max_iter=200 ..............................................\n",
      "[CV] ..... C=10, max_iter=200, score=0.7838983050847458, total=   0.0s\n",
      "[CV] C=10, max_iter=250 ..............................................\n",
      "[CV] ..... C=10, max_iter=250, score=0.7899159663865546, total=   0.0s\n",
      "[CV] C=10, max_iter=250 ..............................................\n",
      "[CV] ..... C=10, max_iter=250, score=0.7983193277310925, total=   0.0s\n",
      "[CV] C=10, max_iter=250 ..............................................\n",
      "[CV] ..... C=10, max_iter=250, score=0.7838983050847458, total=   0.0s\n",
      "[CV] C=30, max_iter=100 ..............................................\n",
      "[CV] ..... C=30, max_iter=100, score=0.7899159663865546, total=   0.0s\n",
      "[CV] C=30, max_iter=100 ..............................................\n",
      "[CV] ..... C=30, max_iter=100, score=0.7983193277310925, total=   0.0s\n",
      "[CV] C=30, max_iter=100 ..............................................\n",
      "[CV] ..... C=30, max_iter=100, score=0.7838983050847458, total=   0.0s\n",
      "[CV] C=30, max_iter=150 ..............................................\n",
      "[CV] ..... C=30, max_iter=150, score=0.7899159663865546, total=   0.0s\n",
      "[CV] C=30, max_iter=150 ..............................................\n",
      "[CV] ..... C=30, max_iter=150, score=0.7983193277310925, total=   0.0s\n",
      "[CV] C=30, max_iter=150 ..............................................\n",
      "[CV] ..... C=30, max_iter=150, score=0.7838983050847458, total=   0.0s\n",
      "[CV] C=30, max_iter=200 ..............................................\n",
      "[CV] ..... C=30, max_iter=200, score=0.7899159663865546, total=   0.0s\n",
      "[CV] C=30, max_iter=200 ..............................................\n",
      "[CV] ..... C=30, max_iter=200, score=0.7983193277310925, total=   0.0s\n",
      "[CV] C=30, max_iter=200 ..............................................\n",
      "[CV] ..... C=30, max_iter=200, score=0.7838983050847458, total=   0.0s\n",
      "[CV] C=30, max_iter=250 ..............................................\n",
      "[CV] ..... C=30, max_iter=250, score=0.7899159663865546, total=   0.0s\n",
      "[CV] C=30, max_iter=250 ..............................................\n",
      "[CV] ..... C=30, max_iter=250, score=0.7983193277310925, total=   0.0s\n",
      "[CV] C=30, max_iter=250 ..............................................\n",
      "[CV] ..... C=30, max_iter=250, score=0.7838983050847458, total=   0.0s\n",
      "[CV] C=100, max_iter=100 .............................................\n",
      "[CV] .... C=100, max_iter=100, score=0.7941176470588235, total=   0.0s\n",
      "[CV] C=100, max_iter=100 .............................................\n",
      "[CV] .... C=100, max_iter=100, score=0.7983193277310925, total=   0.0s\n",
      "[CV] C=100, max_iter=100 .............................................\n",
      "[CV] .... C=100, max_iter=100, score=0.7838983050847458, total=   0.0s\n",
      "[CV] C=100, max_iter=150 .............................................\n",
      "[CV] .... C=100, max_iter=150, score=0.7941176470588235, total=   0.0s\n",
      "[CV] C=100, max_iter=150 .............................................\n",
      "[CV] .... C=100, max_iter=150, score=0.7983193277310925, total=   0.0s\n",
      "[CV] C=100, max_iter=150 .............................................\n",
      "[CV] .... C=100, max_iter=150, score=0.7838983050847458, total=   0.0s\n",
      "[CV] C=100, max_iter=200 .............................................\n",
      "[CV] .... C=100, max_iter=200, score=0.7941176470588235, total=   0.0s\n",
      "[CV] C=100, max_iter=200 .............................................\n",
      "[CV] .... C=100, max_iter=200, score=0.7983193277310925, total=   0.0s\n",
      "[CV] C=100, max_iter=200 .............................................\n",
      "[CV] .... C=100, max_iter=200, score=0.7838983050847458, total=   0.0s\n",
      "[CV] C=100, max_iter=250 .............................................\n",
      "[CV] .... C=100, max_iter=250, score=0.7941176470588235, total=   0.0s\n",
      "[CV] C=100, max_iter=250 .............................................\n",
      "[CV] .... C=100, max_iter=250, score=0.7983193277310925, total=   0.0s\n",
      "[CV] C=100, max_iter=250 .............................................\n"
     ]
    },
    {
     "name": "stdout",
     "output_type": "stream",
     "text": [
      "[CV] .... C=100, max_iter=250, score=0.7838983050847458, total=   0.0s\n",
      "[CV] C=300, max_iter=100 .............................................\n",
      "[CV] .... C=300, max_iter=100, score=0.7941176470588235, total=   0.0s\n",
      "[CV] C=300, max_iter=100 .............................................\n",
      "[CV] .... C=300, max_iter=100, score=0.7983193277310925, total=   0.0s\n",
      "[CV] C=300, max_iter=100 .............................................\n",
      "[CV] .... C=300, max_iter=100, score=0.7796610169491526, total=   0.0s\n",
      "[CV] C=300, max_iter=150 .............................................\n",
      "[CV] .... C=300, max_iter=150, score=0.7941176470588235, total=   0.0s\n",
      "[CV] C=300, max_iter=150 .............................................\n",
      "[CV] .... C=300, max_iter=150, score=0.7983193277310925, total=   0.0s\n",
      "[CV] C=300, max_iter=150 .............................................\n",
      "[CV] .... C=300, max_iter=150, score=0.7796610169491526, total=   0.0s\n",
      "[CV] C=300, max_iter=200 .............................................\n",
      "[CV] .... C=300, max_iter=200, score=0.7941176470588235, total=   0.0s\n",
      "[CV] C=300, max_iter=200 .............................................\n",
      "[CV] .... C=300, max_iter=200, score=0.7983193277310925, total=   0.0s\n",
      "[CV] C=300, max_iter=200 .............................................\n",
      "[CV] .... C=300, max_iter=200, score=0.7796610169491526, total=   0.0s\n",
      "[CV] C=300, max_iter=250 .............................................\n",
      "[CV] .... C=300, max_iter=250, score=0.7941176470588235, total=   0.0s\n",
      "[CV] C=300, max_iter=250 .............................................\n",
      "[CV] .... C=300, max_iter=250, score=0.7983193277310925, total=   0.0s\n",
      "[CV] C=300, max_iter=250 .............................................\n",
      "[CV] .... C=300, max_iter=250, score=0.7796610169491526, total=   0.0s\n",
      "[CV] C=1000, max_iter=100 ............................................\n",
      "[CV] ... C=1000, max_iter=100, score=0.7941176470588235, total=   0.0s\n",
      "[CV] C=1000, max_iter=100 ............................................\n",
      "[CV] ... C=1000, max_iter=100, score=0.7983193277310925, total=   0.0s\n",
      "[CV] C=1000, max_iter=100 ............................................\n",
      "[CV] ... C=1000, max_iter=100, score=0.7796610169491526, total=   0.0s\n",
      "[CV] C=1000, max_iter=150 ............................................\n",
      "[CV] ... C=1000, max_iter=150, score=0.7941176470588235, total=   0.0s\n",
      "[CV] C=1000, max_iter=150 ............................................\n",
      "[CV] ... C=1000, max_iter=150, score=0.7983193277310925, total=   0.0s\n",
      "[CV] C=1000, max_iter=150 ............................................\n",
      "[CV] ... C=1000, max_iter=150, score=0.7796610169491526, total=   0.0s\n",
      "[CV] C=1000, max_iter=200 ............................................\n",
      "[CV] ... C=1000, max_iter=200, score=0.7941176470588235, total=   0.0s\n",
      "[CV] C=1000, max_iter=200 ............................................\n",
      "[CV] ... C=1000, max_iter=200, score=0.7983193277310925, total=   0.0s\n",
      "[CV] C=1000, max_iter=200 ............................................\n",
      "[CV] ... C=1000, max_iter=200, score=0.7796610169491526, total=   0.0s\n",
      "[CV] C=1000, max_iter=250 ............................................\n",
      "[CV] ... C=1000, max_iter=250, score=0.7941176470588235, total=   0.0s\n",
      "[CV] C=1000, max_iter=250 ............................................\n",
      "[CV] ... C=1000, max_iter=250, score=0.7983193277310925, total=   0.0s\n",
      "[CV] C=1000, max_iter=250 ............................................\n",
      "[CV] ... C=1000, max_iter=250, score=0.7796610169491526, total=   0.0s\n",
      "[CV] C=3000, max_iter=100 ............................................\n",
      "[CV] ... C=3000, max_iter=100, score=0.7941176470588235, total=   0.0s\n",
      "[CV] C=3000, max_iter=100 ............................................\n",
      "[CV] ... C=3000, max_iter=100, score=0.7983193277310925, total=   0.0s\n",
      "[CV] C=3000, max_iter=100 ............................................\n",
      "[CV] ... C=3000, max_iter=100, score=0.7796610169491526, total=   0.0s\n",
      "[CV] C=3000, max_iter=150 ............................................\n",
      "[CV] ... C=3000, max_iter=150, score=0.7941176470588235, total=   0.0s\n",
      "[CV] C=3000, max_iter=150 ............................................\n",
      "[CV] ... C=3000, max_iter=150, score=0.7983193277310925, total=   0.0s\n",
      "[CV] C=3000, max_iter=150 ............................................\n",
      "[CV] ... C=3000, max_iter=150, score=0.7796610169491526, total=   0.0s\n",
      "[CV] C=3000, max_iter=200 ............................................\n",
      "[CV] ... C=3000, max_iter=200, score=0.7941176470588235, total=   0.0s\n",
      "[CV] C=3000, max_iter=200 ............................................\n",
      "[CV] ... C=3000, max_iter=200, score=0.7983193277310925, total=   0.0s\n",
      "[CV] C=3000, max_iter=200 ............................................\n",
      "[CV] ... C=3000, max_iter=200, score=0.7796610169491526, total=   0.0s\n",
      "[CV] C=3000, max_iter=250 ............................................\n",
      "[CV] ... C=3000, max_iter=250, score=0.7941176470588235, total=   0.0s\n",
      "[CV] C=3000, max_iter=250 ............................................\n",
      "[CV] ... C=3000, max_iter=250, score=0.7983193277310925, total=   0.0s\n",
      "[CV] C=3000, max_iter=250 ............................................\n",
      "[CV] ... C=3000, max_iter=250, score=0.7796610169491526, total=   0.0s\n"
     ]
    },
    {
     "name": "stderr",
     "output_type": "stream",
     "text": [
      "[Parallel(n_jobs=1)]: Done 120 out of 120 | elapsed:    0.8s finished\n"
     ]
    },
    {
     "data": {
      "text/plain": [
       "GridSearchCV(cv=None, error_score='raise',\n",
       "       estimator=LogisticRegression(C=1.0, class_weight=None, dual=False, fit_intercept=True,\n",
       "          intercept_scaling=1, max_iter=100, multi_class='ovr', n_jobs=1,\n",
       "          penalty='l2', random_state=None, solver='liblinear', tol=0.0001,\n",
       "          verbose=0, warm_start=False),\n",
       "       fit_params=None, iid=True, n_jobs=1,\n",
       "       param_grid={'C': [0.1, 0.3, 1, 3, 10, 30, 100, 300, 1000, 3000], 'max_iter': [100, 150, 200, 250]},\n",
       "       pre_dispatch='2*n_jobs', refit=True, return_train_score=True,\n",
       "       scoring=None, verbose=3)"
      ]
     },
     "execution_count": 31,
     "metadata": {},
     "output_type": "execute_result"
    }
   ],
   "source": [
    "grid.fit(X_train,y_train)"
   ]
  },
  {
   "cell_type": "code",
   "execution_count": 33,
   "metadata": {},
   "outputs": [],
   "source": [
    "grid_pred=grid.predict(X_cv)"
   ]
  },
  {
   "cell_type": "code",
   "execution_count": 34,
   "metadata": {},
   "outputs": [
    {
     "name": "stdout",
     "output_type": "stream",
     "text": [
      "0.775280898876\n"
     ]
    }
   ],
   "source": [
    "print(accuracy_score(y_cv,grid_pred))"
   ]
  },
  {
   "cell_type": "code",
   "execution_count": 38,
   "metadata": {},
   "outputs": [],
   "source": [
    "X_test=test.drop('PassengerId',axis=1)"
   ]
  },
  {
   "cell_type": "code",
   "execution_count": 58,
   "metadata": {},
   "outputs": [],
   "source": [
    "test.dropna(inplace=True)"
   ]
  },
  {
   "cell_type": "code",
   "execution_count": 42,
   "metadata": {},
   "outputs": [],
   "source": [
    "X_test.dropna(inplace=True)"
   ]
  },
  {
   "cell_type": "code",
   "execution_count": 43,
   "metadata": {},
   "outputs": [],
   "source": [
    "test_pred=grid.predict(X_test)"
   ]
  },
  {
   "cell_type": "code",
   "execution_count": 59,
   "metadata": {},
   "outputs": [],
   "source": [
    "result=pd.DataFrame(data=test['PassengerId'],columns=['PassengerId'])"
   ]
  },
  {
   "cell_type": "code",
   "execution_count": 60,
   "metadata": {},
   "outputs": [],
   "source": [
    "result['Survived']=test_pred"
   ]
  },
  {
   "cell_type": "code",
   "execution_count": 61,
   "metadata": {},
   "outputs": [
    {
     "data": {
      "text/html": [
       "<div>\n",
       "<style>\n",
       "    .dataframe thead tr:only-child th {\n",
       "        text-align: right;\n",
       "    }\n",
       "\n",
       "    .dataframe thead th {\n",
       "        text-align: left;\n",
       "    }\n",
       "\n",
       "    .dataframe tbody tr th {\n",
       "        vertical-align: top;\n",
       "    }\n",
       "</style>\n",
       "<table border=\"1\" class=\"dataframe\">\n",
       "  <thead>\n",
       "    <tr style=\"text-align: right;\">\n",
       "      <th></th>\n",
       "      <th>PassengerId</th>\n",
       "      <th>Survived</th>\n",
       "    </tr>\n",
       "  </thead>\n",
       "  <tbody>\n",
       "    <tr>\n",
       "      <th>0</th>\n",
       "      <td>892</td>\n",
       "      <td>0</td>\n",
       "    </tr>\n",
       "    <tr>\n",
       "      <th>1</th>\n",
       "      <td>893</td>\n",
       "      <td>1</td>\n",
       "    </tr>\n",
       "    <tr>\n",
       "      <th>2</th>\n",
       "      <td>894</td>\n",
       "      <td>0</td>\n",
       "    </tr>\n",
       "    <tr>\n",
       "      <th>3</th>\n",
       "      <td>895</td>\n",
       "      <td>0</td>\n",
       "    </tr>\n",
       "    <tr>\n",
       "      <th>4</th>\n",
       "      <td>896</td>\n",
       "      <td>1</td>\n",
       "    </tr>\n",
       "  </tbody>\n",
       "</table>\n",
       "</div>"
      ],
      "text/plain": [
       "   PassengerId  Survived\n",
       "0          892         0\n",
       "1          893         1\n",
       "2          894         0\n",
       "3          895         0\n",
       "4          896         1"
      ]
     },
     "execution_count": 61,
     "metadata": {},
     "output_type": "execute_result"
    }
   ],
   "source": [
    "result.head()"
   ]
  },
  {
   "cell_type": "code",
   "execution_count": 63,
   "metadata": {
    "collapsed": true
   },
   "outputs": [],
   "source": [
    "result.to_csv('submissions_LogisticRegression.csv',index=False)"
   ]
  },
  {
   "cell_type": "code",
   "execution_count": null,
   "metadata": {
    "collapsed": true
   },
   "outputs": [],
   "source": []
  }
 ],
 "metadata": {
  "kernelspec": {
   "display_name": "Python 3",
   "language": "python",
   "name": "python3"
  },
  "language_info": {
   "codemirror_mode": {
    "name": "ipython",
    "version": 3
   },
   "file_extension": ".py",
   "mimetype": "text/x-python",
   "name": "python",
   "nbconvert_exporter": "python",
   "pygments_lexer": "ipython3",
   "version": "3.6.2"
  }
 },
 "nbformat": 4,
 "nbformat_minor": 2
}
